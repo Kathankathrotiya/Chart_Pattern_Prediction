{
 "cells": [
  {
   "cell_type": "code",
   "execution_count": 78,
   "metadata": {},
   "outputs": [],
   "source": [
    "import os\n",
    "import numpy as np\n",
    "import tensorflow as tf\n",
    "from tensorflow.keras.preprocessing.image import ImageDataGenerator\n",
    "from tensorflow.keras.models import Sequential\n",
    "from tensorflow.keras.layers import Conv2D, MaxPooling2D, Flatten, Dense"
   ]
  },
  {
   "cell_type": "code",
   "execution_count": 79,
   "metadata": {},
   "outputs": [],
   "source": [
    "# Data Preparation\n",
    "train_dir = 'train_data'  # Directory containing training images organized by classes\n",
    "validation_dir = 'validation_data'  # Directory containing validation images organized by classes"
   ]
  },
  {
   "cell_type": "code",
   "execution_count": 80,
   "metadata": {},
   "outputs": [],
   "source": [
    "# Data Preprocessing\n",
    "train_datagen = ImageDataGenerator(rescale=1./255)\n",
    "validation_datagen = ImageDataGenerator(rescale=1./255)"
   ]
  },
  {
   "cell_type": "code",
   "execution_count": 81,
   "metadata": {},
   "outputs": [
    {
     "name": "stdout",
     "output_type": "stream",
     "text": [
      "Found 1219 images belonging to 5 classes.\n"
     ]
    }
   ],
   "source": [
    "train_generator = train_datagen.flow_from_directory(\n",
    "    train_dir,\n",
    "    target_size=(150, 150),\n",
    "    batch_size=20,\n",
    "    class_mode='categorical'\n",
    ")"
   ]
  },
  {
   "cell_type": "code",
   "execution_count": 82,
   "metadata": {},
   "outputs": [
    {
     "name": "stdout",
     "output_type": "stream",
     "text": [
      "Found 307 images belonging to 5 classes.\n"
     ]
    }
   ],
   "source": [
    "validation_generator = validation_datagen.flow_from_directory(\n",
    "    validation_dir,\n",
    "    target_size=(150, 150),\n",
    "    batch_size=5,\n",
    "    class_mode='categorical'\n",
    ")"
   ]
  },
  {
   "cell_type": "code",
   "execution_count": 83,
   "metadata": {},
   "outputs": [],
   "source": [
    "model = Sequential([\n",
    "    Conv2D(32, (3, 3), activation='relu', input_shape=(150, 150, 3)),\n",
    "    MaxPooling2D((2, 2)),\n",
    "    Conv2D(64, (3, 3), activation='relu'),\n",
    "    MaxPooling2D((2, 2)),\n",
    "    Conv2D(128, (3, 3), activation='relu'),\n",
    "    MaxPooling2D((2, 2)),\n",
    "    Conv2D(128, (3, 3), activation='relu'),\n",
    "    MaxPooling2D((2, 2)),\n",
    "    Flatten(),\n",
    "    Dense(512, activation='relu'),\n",
    "    Dense(len(os.listdir(train_dir)), activation='softmax')  # Number of classes\n",
    "])"
   ]
  },
  {
   "cell_type": "code",
   "execution_count": 84,
   "metadata": {},
   "outputs": [
    {
     "name": "stdout",
     "output_type": "stream",
     "text": [
      "Model: \"sequential_7\"\n",
      "_________________________________________________________________\n",
      " Layer (type)                Output Shape              Param #   \n",
      "=================================================================\n",
      " conv2d_28 (Conv2D)          (None, 148, 148, 32)      896       \n",
      "                                                                 \n",
      " max_pooling2d_28 (MaxPoolin  (None, 74, 74, 32)       0         \n",
      " g2D)                                                            \n",
      "                                                                 \n",
      " conv2d_29 (Conv2D)          (None, 72, 72, 64)        18496     \n",
      "                                                                 \n",
      " max_pooling2d_29 (MaxPoolin  (None, 36, 36, 64)       0         \n",
      " g2D)                                                            \n",
      "                                                                 \n",
      " conv2d_30 (Conv2D)          (None, 34, 34, 128)       73856     \n",
      "                                                                 \n",
      " max_pooling2d_30 (MaxPoolin  (None, 17, 17, 128)      0         \n",
      " g2D)                                                            \n",
      "                                                                 \n",
      " conv2d_31 (Conv2D)          (None, 15, 15, 128)       147584    \n",
      "                                                                 \n",
      " max_pooling2d_31 (MaxPoolin  (None, 7, 7, 128)        0         \n",
      " g2D)                                                            \n",
      "                                                                 \n",
      " flatten_7 (Flatten)         (None, 6272)              0         \n",
      "                                                                 \n",
      " dense_14 (Dense)            (None, 512)               3211776   \n",
      "                                                                 \n",
      " dense_15 (Dense)            (None, 5)                 2565      \n",
      "                                                                 \n",
      "=================================================================\n",
      "Total params: 3,455,173\n",
      "Trainable params: 3,455,173\n",
      "Non-trainable params: 0\n",
      "_________________________________________________________________\n"
     ]
    }
   ],
   "source": [
    "model.summary()"
   ]
  },
  {
   "cell_type": "code",
   "execution_count": 85,
   "metadata": {},
   "outputs": [],
   "source": [
    "model.compile(optimizer='adam',\n",
    "              loss='categorical_crossentropy',\n",
    "              metrics=['accuracy'])"
   ]
  },
  {
   "cell_type": "code",
   "execution_count": 86,
   "metadata": {},
   "outputs": [
    {
     "name": "stdout",
     "output_type": "stream",
     "text": [
      "Epoch 1/5\n",
      "61/61 [==============================] - 35s 550ms/step - loss: 1.4461 - accuracy: 0.4865 - val_loss: 1.3663 - val_accuracy: 0.4984\n",
      "Epoch 2/5\n",
      "61/61 [==============================] - 33s 542ms/step - loss: 1.1511 - accuracy: 0.5669 - val_loss: 0.3266 - val_accuracy: 0.8893\n",
      "Epoch 3/5\n",
      "61/61 [==============================] - 33s 548ms/step - loss: 0.0395 - accuracy: 0.9861 - val_loss: 0.0145 - val_accuracy: 0.9967\n",
      "Epoch 4/5\n",
      "61/61 [==============================] - 34s 555ms/step - loss: 0.0035 - accuracy: 0.9992 - val_loss: 6.9371e-04 - val_accuracy: 1.0000\n",
      "Epoch 5/5\n",
      "61/61 [==============================] - 34s 557ms/step - loss: 0.0018 - accuracy: 0.9992 - val_loss: 5.3002e-05 - val_accuracy: 1.0000\n"
     ]
    }
   ],
   "source": [
    "# Model Training\n",
    "history = model.fit(\n",
    "    train_generator,\n",
    "    steps_per_epoch=len(train_generator), \n",
    "    epochs=5,\n",
    "    validation_data=validation_generator,\n",
    "    validation_steps=len(validation_generator) \n",
    ")"
   ]
  },
  {
   "cell_type": "code",
   "execution_count": 87,
   "metadata": {},
   "outputs": [],
   "source": [
    "# import os\n",
    "# import matplotlib.pyplot as plt\n",
    "# import pandas as pd\n",
    "\n",
    "# # Load the data\n",
    "# pred = pd.read_csv('TestData.csv')\n",
    "\n",
    "# # Determine the number of groups\n",
    "# num_groups = len(pred) // 72\n",
    "\n",
    "# # Create test_data directory if it doesn't exist\n",
    "# os.makedirs('test_data', exist_ok=True)\n",
    "\n",
    "# # Plot each group separately and save as image\n",
    "# for i in range(num_groups):\n",
    "#     start_idx = i * 72\n",
    "#     end_idx = (i + 1) * 72\n",
    "#     group = pred.iloc[start_idx:end_idx]\n",
    "    \n",
    "#     plt.figure(figsize=(10, 4))  # Adjust figure size as needed\n",
    "#     plt.plot(group['open'])\n",
    "#     plt.title(f'Group {i+1}')\n",
    "#     plt.xlabel('Index')\n",
    "#     plt.ylabel('Open')\n",
    "#     plt.grid(True)\n",
    "    \n",
    "#     # Save the plot as an image file\n",
    "#     plot_filename = f'group_{i+1}.png'\n",
    "#     plot_filepath = os.path.join('test_data', plot_filename)\n",
    "#     plt.savefig(plot_filepath)\n",
    "#     plt.close()  # Close the plot to release memory\n",
    "\n",
    "# print(\"Plots saved in test_data directory.\")"
   ]
  },
  {
   "cell_type": "code",
   "execution_count": 90,
   "metadata": {},
   "outputs": [
    {
     "name": "stdout",
     "output_type": "stream",
     "text": [
      "1/1 [==============================] - 0s 35ms/step\n",
      "0\n"
     ]
    },
    {
     "data": {
      "image/png": "[encoded data removed]",
      "text/plain": [
       "<Figure size 600x600 with 1 Axes>"
      ]
     },
     "metadata": {},
     "output_type": "display_data"
    },
    {
     "name": "stdout",
     "output_type": "stream",
     "text": [
      "1/1 [==============================] - 0s 33ms/step\n",
      "3\n"
     ]
    },
    {
     "data": {
      "image/png": "[encoded data removed]",
      "text/plain": [
       "<Figure size 600x600 with 1 Axes>"
      ]
     },
     "metadata": {},
     "output_type": "display_data"
    },
    {
     "name": "stdout",
     "output_type": "stream",
     "text": [
      "1/1 [==============================] - 0s 28ms/step\n",
      "3\n"
     ]
    },
    {
     "data": {
      "image/png": "[encoded data removed]",
      "text/plain": [
       "<Figure size 600x600 with 1 Axes>"
      ]
     },
     "metadata": {},
     "output_type": "display_data"
    },
    {
     "name": "stdout",
     "output_type": "stream",
     "text": [
      "1/1 [==============================] - 0s 35ms/step\n",
      "1\n"
     ]
    },
    {
     "data": {
      "image/png": "[encoded data removed]",
      "text/plain": [
       "<Figure size 600x600 with 1 Axes>"
      ]
     },
     "metadata": {},
     "output_type": "display_data"
    },
    {
     "name": "stdout",
     "output_type": "stream",
     "text": [
      "1/1 [==============================] - 0s 31ms/step\n",
      "0\n"
     ]
    },
    {
     "data": {
      "image/png": "[encoded data removed]",
      "text/plain": [
       "<Figure size 600x600 with 1 Axes>"
      ]
     },
     "metadata": {},
     "output_type": "display_data"
    }
   ],
   "source": [
    "import os\n",
    "import random\n",
    "import numpy as np\n",
    "import matplotlib.pyplot as plt\n",
    "from tensorflow.keras.preprocessing import image\n",
    "\n",
    "# Load the images from the test_data directory\n",
    "test_data_dir = 'test_data'\n",
    "image_files = os.listdir(test_data_dir)\n",
    "\n",
    "# Randomly select 5 images\n",
    "selected_images = random.sample(image_files, 5)\n",
    "\n",
    "# Preprocess each selected image, make predictions, and plot\n",
    "for image_file in selected_images:\n",
    "    # Load and preprocess the image\n",
    "    img_path = os.path.join(test_data_dir, image_file)\n",
    "    img = image.load_img(img_path, target_size=(150, 150))  # Adjust target_size if needed\n",
    "    img_array = image.img_to_array(img)\n",
    "    img_array = np.expand_dims(img_array, axis=0)  # Add batch dimension\n",
    "    img_array = img_array / 255.0  # Normalize pixel values\n",
    "    \n",
    "    # Make prediction\n",
    "    prediction = model.predict(img_array)\n",
    "    predicted_label = np.argmax(prediction)\n",
    "    print(predicted_label)\n",
    "    \n",
    "    # Plot the image along with its predicted label\n",
    "    plt.figure(figsize=(6, 6))\n",
    "    plt.imshow(img)\n",
    "    plt.title(f'Predicted Label: {predicted_label}')\n",
    "    plt.axis('off')\n",
    "    plt.show()"
   ]
  },
  {
   "cell_type": "code",
   "execution_count": 89,
   "metadata": {},
   "outputs": [],
   "source": [
    "# import os\n",
    "# import random\n",
    "# import numpy as np\n",
    "# import matplotlib.pyplot as plt\n",
    "# from tensorflow.keras.preprocessing import image\n",
    "# from tensorflow.keras.applications.vgg16 import preprocess_input, decode_predictions\n",
    "# import tensorflow as tf\n",
    "# from tensorflow.keras.models import Model\n",
    "\n",
    "# # Load the model (replace 'model' with your trained CNN model)\n",
    "# model = tf.keras.applications.vgg16.VGG16(weights='imagenet', include_top=True)\n",
    "\n",
    "# # Get list of image files in the test_data directory\n",
    "# test_data_dir = 'test_data'\n",
    "# image_files = os.listdir(test_data_dir)\n",
    "\n",
    "# # Randomly select an image\n",
    "# selected_image = random.choice(image_files)\n",
    "\n",
    "# # Load the selected image\n",
    "# img_path = os.path.join(test_data_dir, selected_image)\n",
    "# img = image.load_img(img_path, target_size=(224, 224))  # Adjust target_size if needed\n",
    "# x = image.img_to_array(img)\n",
    "# x = np.expand_dims(x, axis=0)\n",
    "# x = preprocess_input(x)\n",
    "\n",
    "# # Get the prediction\n",
    "# preds = model.predict(x)\n",
    "# predicted_class = np.argmax(preds[0])\n",
    "# print('Predicted class:', predicted_class)\n",
    "# print('Predicted class name:', decode_predictions(preds)[0][0][1])\n",
    "\n",
    "# # Get the output of the last convolutional layer\n",
    "# last_conv_layer = model.get_layer('block5_conv3')\n",
    "\n",
    "# # Create a model that maps the input image to the activations of the last conv layer\n",
    "# grad_model = Model(inputs=model.inputs, outputs=[last_conv_layer.output, model.output])\n",
    "\n",
    "# # Compute the gradient of the predicted class with respect to the output feature map of the last conv layer\n",
    "# with tf.GradientTape() as tape:\n",
    "#     conv_output, preds = grad_model(x)\n",
    "#     loss = preds[:, predicted_class]\n",
    "\n",
    "# grads = tape.gradient(loss, conv_output)[0]\n",
    "\n",
    "# # Compute the guided gradients\n",
    "# guided_grads = tf.cast(conv_output > 0, 'float32') * tf.cast(grads > 0, 'float32') * grads\n",
    "\n",
    "# # Compute the average gradients across each feature map\n",
    "# weights = tf.reduce_mean(guided_grads, axis=(0, 1))\n",
    "\n",
    "# # Compute the weighted sum of the feature maps\n",
    "# cam = tf.reduce_sum(tf.multiply(weights, conv_output), axis=-1)\n",
    "\n",
    "# # Resize the CAM to match the original image size\n",
    "# heatmap = tf.image.resize(cam, (img.shape[1], img.shape[0]))\n",
    "\n",
    "# # Normalize the heatmap\n",
    "# heatmap = tf.maximum(heatmap, 0) / tf.math.reduce_max(heatmap)\n",
    "\n",
    "# # Convert the heatmap to numpy array\n",
    "# heatmap = heatmap.numpy()\n",
    "\n",
    "# # Plot the original image\n",
    "# plt.imshow(img)\n",
    "# plt.title('Original Image')\n",
    "# plt.axis('off')\n",
    "# plt.show()\n",
    "\n",
    "# # Plot the heatmap on top of the original image\n",
    "# plt.imshow(img)\n",
    "# plt.imshow(heatmap, alpha=0.5, cmap='jet')\n",
    "# plt.title('Grad-CAM Heatmap')\n",
    "# plt.axis('off')\n",
    "# plt.show()"
   ]
  }
 ],
 "metadata": {
  "kernelspec": {
   "display_name": "Python 3",
   "language": "python",
   "name": "python3"
  },
  "language_info": {
   "codemirror_mode": {
    "name": "ipython",
    "version": 3
   },
   "file_extension": ".py",
   "mimetype": "text/x-python",
   "name": "python",
   "nbconvert_exporter": "python",
   "pygments_lexer": "ipython3",
   "version": "3.11.1"
  }
 },
 "nbformat": 4,
 "nbformat_minor": 2
}
