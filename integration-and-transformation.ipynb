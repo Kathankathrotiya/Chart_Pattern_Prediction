{
 "cells": [
  {
   "cell_type": "code",
   "execution_count": 1,
   "id": "41c4da1e",
   "metadata": {
    "_cell_guid": "b1076dfc-b9ad-4769-8c92-a6c4dae69d19",
    "_uuid": "8f2839f25d086af736a60e9eeb907d3b93b6e0e5",
    "execution": {
     "iopub.execute_input": "2024-04-25T15:04:53.756317Z",
     "iopub.status.busy": "2024-04-25T15:04:53.755460Z",
     "iopub.status.idle": "2024-04-25T15:04:54.810877Z",
     "shell.execute_reply": "2024-04-25T15:04:54.809615Z"
    },
    "papermill": {
     "duration": 1.068359,
     "end_time": "2024-04-25T15:04:54.813912",
     "exception": false,
     "start_time": "2024-04-25T15:04:53.745553",
     "status": "completed"
    },
    "tags": []
   },
   "outputs": [],
   "source": [
    "import numpy as np # linear algebra\n",
    "import pandas as pd # data processing, CSV file I/O (e.g. pd.read_csv)"
   ]
  },
  {
   "cell_type": "code",
   "execution_count": 2,
   "id": "a8109f2c",
   "metadata": {
    "execution": {
     "iopub.execute_input": "2024-04-25T15:04:54.830925Z",
     "iopub.status.busy": "2024-04-25T15:04:54.830386Z",
     "iopub.status.idle": "2024-04-25T15:04:54.870558Z",
     "shell.execute_reply": "2024-04-25T15:04:54.869442Z"
    },
    "papermill": {
     "duration": 0.051599,
     "end_time": "2024-04-25T15:04:54.873219",
     "exception": false,
     "start_time": "2024-04-25T15:04:54.821620",
     "status": "completed"
    },
    "tags": []
   },
   "outputs": [
    {
     "data": {
      "text/html": [
       "<div>\n",
       "<style scoped>\n",
       "    .dataframe tbody tr th:only-of-type {\n",
       "        vertical-align: middle;\n",
       "    }\n",
       "\n",
       "    .dataframe tbody tr th {\n",
       "        vertical-align: top;\n",
       "    }\n",
       "\n",
       "    .dataframe thead th {\n",
       "        text-align: right;\n",
       "    }\n",
       "</style>\n",
       "<table border=\"1\" class=\"dataframe\">\n",
       "  <thead>\n",
       "    <tr style=\"text-align: right;\">\n",
       "      <th></th>\n",
       "      <th>Unnamed: 0</th>\n",
       "      <th>start</th>\n",
       "      <th>end</th>\n",
       "      <th>pattern</th>\n",
       "    </tr>\n",
       "  </thead>\n",
       "  <tbody>\n",
       "    <tr>\n",
       "      <th>0</th>\n",
       "      <td>0</td>\n",
       "      <td>2020-01-08 10:50:00</td>\n",
       "      <td>2020-01-08 13:00:00</td>\n",
       "      <td>Reverse Head and shoulders</td>\n",
       "    </tr>\n",
       "    <tr>\n",
       "      <th>1</th>\n",
       "      <td>1</td>\n",
       "      <td>2020-01-09 10:40:00</td>\n",
       "      <td>2020-01-09 12:45:00</td>\n",
       "      <td>Head and shoulders</td>\n",
       "    </tr>\n",
       "    <tr>\n",
       "      <th>2</th>\n",
       "      <td>2</td>\n",
       "      <td>2020-01-15 12:45:00</td>\n",
       "      <td>2020-01-15 14:50:00</td>\n",
       "      <td>Head and shoulders</td>\n",
       "    </tr>\n",
       "    <tr>\n",
       "      <th>3</th>\n",
       "      <td>3</td>\n",
       "      <td>2020-01-16 11:00:00</td>\n",
       "      <td>2020-01-16 13:10:00</td>\n",
       "      <td>Reverse Head and shoulders</td>\n",
       "    </tr>\n",
       "    <tr>\n",
       "      <th>4</th>\n",
       "      <td>4</td>\n",
       "      <td>2020-01-20 12:05:00</td>\n",
       "      <td>2020-01-20 13:55:00</td>\n",
       "      <td>Head and shoulders</td>\n",
       "    </tr>\n",
       "    <tr>\n",
       "      <th>...</th>\n",
       "      <td>...</td>\n",
       "      <td>...</td>\n",
       "      <td>...</td>\n",
       "      <td>...</td>\n",
       "    </tr>\n",
       "    <tr>\n",
       "      <th>85</th>\n",
       "      <td>85</td>\n",
       "      <td>2021-02-09 12:50:00</td>\n",
       "      <td>2021-02-09 14:40:00</td>\n",
       "      <td>Head and shoulders</td>\n",
       "    </tr>\n",
       "    <tr>\n",
       "      <th>86</th>\n",
       "      <td>86</td>\n",
       "      <td>2021-02-10 12:20:00</td>\n",
       "      <td>2021-02-10 13:45:00</td>\n",
       "      <td>Double Bottom</td>\n",
       "    </tr>\n",
       "    <tr>\n",
       "      <th>87</th>\n",
       "      <td>87</td>\n",
       "      <td>2021-02-11 11:00:00</td>\n",
       "      <td>2021-02-11 12:50:00</td>\n",
       "      <td>Reverse Head and shoulders</td>\n",
       "    </tr>\n",
       "    <tr>\n",
       "      <th>88</th>\n",
       "      <td>88</td>\n",
       "      <td>2021-02-18 11:10:00</td>\n",
       "      <td>2021-02-18 13:20:00</td>\n",
       "      <td>Reverse Head and shoulders</td>\n",
       "    </tr>\n",
       "    <tr>\n",
       "      <th>89</th>\n",
       "      <td>89</td>\n",
       "      <td>2021-02-24 11:55:00</td>\n",
       "      <td>2021-02-24 13:10:00</td>\n",
       "      <td>Double Bottom</td>\n",
       "    </tr>\n",
       "  </tbody>\n",
       "</table>\n",
       "<p>90 rows × 4 columns</p>\n",
       "</div>"
      ],
      "text/plain": [
       "    Unnamed: 0                start                  end  \\\n",
       "0            0  2020-01-08 10:50:00  2020-01-08 13:00:00   \n",
       "1            1  2020-01-09 10:40:00  2020-01-09 12:45:00   \n",
       "2            2  2020-01-15 12:45:00  2020-01-15 14:50:00   \n",
       "3            3  2020-01-16 11:00:00  2020-01-16 13:10:00   \n",
       "4            4  2020-01-20 12:05:00  2020-01-20 13:55:00   \n",
       "..         ...                  ...                  ...   \n",
       "85          85  2021-02-09 12:50:00  2021-02-09 14:40:00   \n",
       "86          86  2021-02-10 12:20:00  2021-02-10 13:45:00   \n",
       "87          87  2021-02-11 11:00:00  2021-02-11 12:50:00   \n",
       "88          88  2021-02-18 11:10:00  2021-02-18 13:20:00   \n",
       "89          89  2021-02-24 11:55:00  2021-02-24 13:10:00   \n",
       "\n",
       "                       pattern  \n",
       "0   Reverse Head and shoulders  \n",
       "1           Head and shoulders  \n",
       "2           Head and shoulders  \n",
       "3   Reverse Head and shoulders  \n",
       "4           Head and shoulders  \n",
       "..                         ...  \n",
       "85          Head and shoulders  \n",
       "86               Double Bottom  \n",
       "87  Reverse Head and shoulders  \n",
       "88  Reverse Head and shoulders  \n",
       "89               Double Bottom  \n",
       "\n",
       "[90 rows x 4 columns]"
      ]
     },
     "execution_count": 2,
     "metadata": {},
     "output_type": "execute_result"
    }
   ],
   "source": [
    "pattern=pd.read_csv(\"/kaggle/input/chart-pattern/SampleDataGT.csv\")\n",
    "pattern"
   ]
  },
  {
   "cell_type": "code",
   "execution_count": 3,
   "id": "0274386c",
   "metadata": {
    "execution": {
     "iopub.execute_input": "2024-04-25T15:04:54.891083Z",
     "iopub.status.busy": "2024-04-25T15:04:54.890685Z",
     "iopub.status.idle": "2024-04-25T15:04:54.983376Z",
     "shell.execute_reply": "2024-04-25T15:04:54.982436Z"
    },
    "papermill": {
     "duration": 0.10425,
     "end_time": "2024-04-25T15:04:54.985666",
     "exception": false,
     "start_time": "2024-04-25T15:04:54.881416",
     "status": "completed"
    },
    "tags": []
   },
   "outputs": [
    {
     "data": {
      "text/html": [
       "<div>\n",
       "<style scoped>\n",
       "    .dataframe tbody tr th:only-of-type {\n",
       "        vertical-align: middle;\n",
       "    }\n",
       "\n",
       "    .dataframe tbody tr th {\n",
       "        vertical-align: top;\n",
       "    }\n",
       "\n",
       "    .dataframe thead th {\n",
       "        text-align: right;\n",
       "    }\n",
       "</style>\n",
       "<table border=\"1\" class=\"dataframe\">\n",
       "  <thead>\n",
       "    <tr style=\"text-align: right;\">\n",
       "      <th></th>\n",
       "      <th>Unnamed: 0</th>\n",
       "      <th>open</th>\n",
       "      <th>close</th>\n",
       "      <th>high</th>\n",
       "      <th>low</th>\n",
       "      <th>date</th>\n",
       "    </tr>\n",
       "  </thead>\n",
       "  <tbody>\n",
       "    <tr>\n",
       "      <th>0</th>\n",
       "      <td>0</td>\n",
       "      <td>1032.144200</td>\n",
       "      <td>1032.246108</td>\n",
       "      <td>1038.520819</td>\n",
       "      <td>1025.869489</td>\n",
       "      <td>2020-01-02 09:00:00</td>\n",
       "    </tr>\n",
       "    <tr>\n",
       "      <th>1</th>\n",
       "      <td>1</td>\n",
       "      <td>1032.246108</td>\n",
       "      <td>1032.417499</td>\n",
       "      <td>1040.101487</td>\n",
       "      <td>1024.562120</td>\n",
       "      <td>2020-01-02 09:05:00</td>\n",
       "    </tr>\n",
       "    <tr>\n",
       "      <th>2</th>\n",
       "      <td>2</td>\n",
       "      <td>1032.417499</td>\n",
       "      <td>1032.375497</td>\n",
       "      <td>1040.023616</td>\n",
       "      <td>1024.769380</td>\n",
       "      <td>2020-01-02 09:10:00</td>\n",
       "    </tr>\n",
       "    <tr>\n",
       "      <th>3</th>\n",
       "      <td>3</td>\n",
       "      <td>1032.375497</td>\n",
       "      <td>1032.398605</td>\n",
       "      <td>1033.532570</td>\n",
       "      <td>1031.241532</td>\n",
       "      <td>2020-01-02 09:15:00</td>\n",
       "    </tr>\n",
       "    <tr>\n",
       "      <th>4</th>\n",
       "      <td>4</td>\n",
       "      <td>1032.398605</td>\n",
       "      <td>1032.482789</td>\n",
       "      <td>1037.506628</td>\n",
       "      <td>1027.374766</td>\n",
       "      <td>2020-01-02 09:20:00</td>\n",
       "    </tr>\n",
       "    <tr>\n",
       "      <th>...</th>\n",
       "      <td>...</td>\n",
       "      <td>...</td>\n",
       "      <td>...</td>\n",
       "      <td>...</td>\n",
       "      <td>...</td>\n",
       "      <td>...</td>\n",
       "    </tr>\n",
       "    <tr>\n",
       "      <th>21581</th>\n",
       "      <td>67</td>\n",
       "      <td>1672.852023</td>\n",
       "      <td>1678.324194</td>\n",
       "      <td>1681.038031</td>\n",
       "      <td>1670.138186</td>\n",
       "      <td>2021-02-24 14:35:00</td>\n",
       "    </tr>\n",
       "    <tr>\n",
       "      <th>21582</th>\n",
       "      <td>68</td>\n",
       "      <td>1678.324194</td>\n",
       "      <td>1677.952490</td>\n",
       "      <td>1687.895346</td>\n",
       "      <td>1668.381338</td>\n",
       "      <td>2021-02-24 14:40:00</td>\n",
       "    </tr>\n",
       "    <tr>\n",
       "      <th>21583</th>\n",
       "      <td>69</td>\n",
       "      <td>1677.952490</td>\n",
       "      <td>1676.963826</td>\n",
       "      <td>1689.028256</td>\n",
       "      <td>1665.888061</td>\n",
       "      <td>2021-02-24 14:45:00</td>\n",
       "    </tr>\n",
       "    <tr>\n",
       "      <th>21584</th>\n",
       "      <td>70</td>\n",
       "      <td>1676.963826</td>\n",
       "      <td>1679.059744</td>\n",
       "      <td>1688.330764</td>\n",
       "      <td>1667.692807</td>\n",
       "      <td>2021-02-24 14:50:00</td>\n",
       "    </tr>\n",
       "    <tr>\n",
       "      <th>21585</th>\n",
       "      <td>71</td>\n",
       "      <td>1679.059744</td>\n",
       "      <td>1685.062412</td>\n",
       "      <td>1695.667444</td>\n",
       "      <td>1668.454713</td>\n",
       "      <td>2021-02-24 14:55:00</td>\n",
       "    </tr>\n",
       "  </tbody>\n",
       "</table>\n",
       "<p>21586 rows × 6 columns</p>\n",
       "</div>"
      ],
      "text/plain": [
       "       Unnamed: 0         open        close         high          low  \\\n",
       "0               0  1032.144200  1032.246108  1038.520819  1025.869489   \n",
       "1               1  1032.246108  1032.417499  1040.101487  1024.562120   \n",
       "2               2  1032.417499  1032.375497  1040.023616  1024.769380   \n",
       "3               3  1032.375497  1032.398605  1033.532570  1031.241532   \n",
       "4               4  1032.398605  1032.482789  1037.506628  1027.374766   \n",
       "...           ...          ...          ...          ...          ...   \n",
       "21581          67  1672.852023  1678.324194  1681.038031  1670.138186   \n",
       "21582          68  1678.324194  1677.952490  1687.895346  1668.381338   \n",
       "21583          69  1677.952490  1676.963826  1689.028256  1665.888061   \n",
       "21584          70  1676.963826  1679.059744  1688.330764  1667.692807   \n",
       "21585          71  1679.059744  1685.062412  1695.667444  1668.454713   \n",
       "\n",
       "                      date  \n",
       "0      2020-01-02 09:00:00  \n",
       "1      2020-01-02 09:05:00  \n",
       "2      2020-01-02 09:10:00  \n",
       "3      2020-01-02 09:15:00  \n",
       "4      2020-01-02 09:20:00  \n",
       "...                    ...  \n",
       "21581  2021-02-24 14:35:00  \n",
       "21582  2021-02-24 14:40:00  \n",
       "21583  2021-02-24 14:45:00  \n",
       "21584  2021-02-24 14:50:00  \n",
       "21585  2021-02-24 14:55:00  \n",
       "\n",
       "[21586 rows x 6 columns]"
      ]
     },
     "execution_count": 3,
     "metadata": {},
     "output_type": "execute_result"
    }
   ],
   "source": [
    "original_data=pd.read_csv(\"/kaggle/input/chart-pattern/SampleData.csv\")\n",
    "original_data"
   ]
  },
  {
   "cell_type": "markdown",
   "id": "d7458342",
   "metadata": {
    "papermill": {
     "duration": 0.007715,
     "end_time": "2024-04-25T15:04:55.001540",
     "exception": false,
     "start_time": "2024-04-25T15:04:54.993825",
     "status": "completed"
    },
    "tags": []
   },
   "source": [
    "## Converting Date and Time Column"
   ]
  },
  {
   "cell_type": "code",
   "execution_count": 4,
   "id": "e3417f33",
   "metadata": {
    "execution": {
     "iopub.execute_input": "2024-04-25T15:04:55.019831Z",
     "iopub.status.busy": "2024-04-25T15:04:55.018808Z",
     "iopub.status.idle": "2024-04-25T15:04:55.043619Z",
     "shell.execute_reply": "2024-04-25T15:04:55.042374Z"
    },
    "papermill": {
     "duration": 0.036883,
     "end_time": "2024-04-25T15:04:55.046389",
     "exception": false,
     "start_time": "2024-04-25T15:04:55.009506",
     "status": "completed"
    },
    "tags": []
   },
   "outputs": [],
   "source": [
    "pattern['start'] = pd.to_datetime(pattern['start'], format='%Y-%m-%d %H:%M:%S')\n",
    "pattern['end'] = pd.to_datetime(pattern['end'], format='%Y-%m-%d %H:%M:%S')\n",
    "\n",
    "original_data['date'] = pd.to_datetime(original_data['date'])"
   ]
  },
  {
   "cell_type": "code",
   "execution_count": 5,
   "id": "989e3340",
   "metadata": {
    "execution": {
     "iopub.execute_input": "2024-04-25T15:04:55.064333Z",
     "iopub.status.busy": "2024-04-25T15:04:55.063893Z",
     "iopub.status.idle": "2024-04-25T15:04:55.177107Z",
     "shell.execute_reply": "2024-04-25T15:04:55.175375Z"
    },
    "papermill": {
     "duration": 0.125615,
     "end_time": "2024-04-25T15:04:55.180127",
     "exception": false,
     "start_time": "2024-04-25T15:04:55.054512",
     "status": "completed"
    },
    "tags": []
   },
   "outputs": [
    {
     "name": "stdout",
     "output_type": "stream",
     "text": [
      "       Unnamed: 0         open        close         high          low  \\\n",
      "0               0  1032.144200  1032.246108  1038.520819  1025.869489   \n",
      "1               1  1032.246108  1032.417499  1040.101487  1024.562120   \n",
      "2               2  1032.417499  1032.375497  1040.023616  1024.769380   \n",
      "3               3  1032.375497  1032.398605  1033.532570  1031.241532   \n",
      "4               4  1032.398605  1032.482789  1037.506628  1027.374766   \n",
      "...           ...          ...          ...          ...          ...   \n",
      "21581          67  1672.852023  1678.324194  1681.038031  1670.138186   \n",
      "21582          68  1678.324194  1677.952490  1687.895346  1668.381338   \n",
      "21583          69  1677.952490  1676.963826  1689.028256  1665.888061   \n",
      "21584          70  1676.963826  1679.059744  1688.330764  1667.692807   \n",
      "21585          71  1679.059744  1685.062412  1695.667444  1668.454713   \n",
      "\n",
      "                     date pattern  \n",
      "0     2020-01-02 09:00:00     NaN  \n",
      "1     2020-01-02 09:05:00     NaN  \n",
      "2     2020-01-02 09:10:00     NaN  \n",
      "3     2020-01-02 09:15:00     NaN  \n",
      "4     2020-01-02 09:20:00     NaN  \n",
      "...                   ...     ...  \n",
      "21581 2021-02-24 14:35:00     NaN  \n",
      "21582 2021-02-24 14:40:00     NaN  \n",
      "21583 2021-02-24 14:45:00     NaN  \n",
      "21584 2021-02-24 14:50:00     NaN  \n",
      "21585 2021-02-24 14:55:00     NaN  \n",
      "\n",
      "[21586 rows x 7 columns]\n"
     ]
    }
   ],
   "source": [
    "pattern['start'] = pd.to_datetime(pattern['start'], format='%Y-%m-%d %H:%M:%S')\n",
    "pattern['end'] = pd.to_datetime(pattern['end'], format='%Y-%m-%d %H:%M:%S')\n",
    "\n",
    "for index, row in pattern.iterrows():\n",
    "    mask = (original_data['date'] >= row['start']) & (original_data['date'] <= row['end'])\n",
    "    original_data.loc[mask, 'pattern'] = row['pattern']\n",
    "\n",
    "print(original_data)"
   ]
  },
  {
   "cell_type": "code",
   "execution_count": 6,
   "id": "11a95d6b",
   "metadata": {
    "execution": {
     "iopub.execute_input": "2024-04-25T15:04:55.199197Z",
     "iopub.status.busy": "2024-04-25T15:04:55.198778Z",
     "iopub.status.idle": "2024-04-25T15:04:55.203490Z",
     "shell.execute_reply": "2024-04-25T15:04:55.202201Z"
    },
    "papermill": {
     "duration": 0.017549,
     "end_time": "2024-04-25T15:04:55.206431",
     "exception": false,
     "start_time": "2024-04-25T15:04:55.188882",
     "status": "completed"
    },
    "tags": []
   },
   "outputs": [],
   "source": [
    "# original_data.to_csv('labeled_data.csv', index=False)"
   ]
  },
  {
   "cell_type": "code",
   "execution_count": 7,
   "id": "504d888a",
   "metadata": {
    "execution": {
     "iopub.execute_input": "2024-04-25T15:04:55.225071Z",
     "iopub.status.busy": "2024-04-25T15:04:55.224579Z",
     "iopub.status.idle": "2024-04-25T15:04:55.975270Z",
     "shell.execute_reply": "2024-04-25T15:04:55.973728Z"
    },
    "papermill": {
     "duration": 0.763383,
     "end_time": "2024-04-25T15:04:55.978044",
     "exception": false,
     "start_time": "2024-04-25T15:04:55.214661",
     "status": "completed"
    },
    "tags": []
   },
   "outputs": [],
   "source": [
    "pattern_2=pd.read_csv(\"/kaggle/input/chart-pattern/SampleData2GT.csv\")\n",
    "original_data_2=pd.read_csv(\"/kaggle/input/chart-pattern/SampleData2.csv\")\n",
    "pattern_2['start'] = pd.to_datetime(pattern_2['start'], format='%Y-%m-%d %H:%M:%S')\n",
    "pattern_2['end'] = pd.to_datetime(pattern_2['end'], format='%Y-%m-%d %H:%M:%S')\n",
    "original_data_2['date'] = pd.to_datetime(original_data_2['date'])\n",
    "pattern_2['start'] = pd.to_datetime(pattern_2['start'], format='%Y-%m-%d %H:%M:%S')\n",
    "pattern_2['end'] = pd.to_datetime(pattern_2['end'], format='%Y-%m-%d %H:%M:%S')\n",
    "for index, row in pattern_2.iterrows():\n",
    "    mask = (original_data_2['date'] >= row['start']) & (original_data_2['date'] <= row['end'])\n",
    "    original_data_2.loc[mask, 'pattern'] = row['pattern']\n",
    "# original_data_2.to_csv('labeled_data_2.csv', index=False)"
   ]
  },
  {
   "cell_type": "code",
   "execution_count": 8,
   "id": "29460079",
   "metadata": {
    "execution": {
     "iopub.execute_input": "2024-04-25T15:04:55.997841Z",
     "iopub.status.busy": "2024-04-25T15:04:55.997461Z",
     "iopub.status.idle": "2024-04-25T15:04:56.388042Z",
     "shell.execute_reply": "2024-04-25T15:04:56.386737Z"
    },
    "papermill": {
     "duration": 0.403946,
     "end_time": "2024-04-25T15:04:56.390742",
     "exception": false,
     "start_time": "2024-04-25T15:04:55.986796",
     "status": "completed"
    },
    "tags": []
   },
   "outputs": [],
   "source": [
    "pattern_3=pd.read_csv(\"/kaggle/input/chart-pattern/SampleData3GT.csv\")\n",
    "original_data_3=pd.read_csv(\"/kaggle/input/chart-pattern/SampleData3.csv\")\n",
    "pattern_3['start'] = pd.to_datetime(pattern_3['start'], format='%Y-%m-%d %H:%M:%S')\n",
    "pattern_3['end'] = pd.to_datetime(pattern_3['end'], format='%Y-%m-%d %H:%M:%S')\n",
    "original_data_3['date'] = pd.to_datetime(original_data_3['date'])\n",
    "pattern_3['start'] = pd.to_datetime(pattern_3['start'], format='%Y-%m-%d %H:%M:%S')\n",
    "pattern_3['end'] = pd.to_datetime(pattern_3['end'], format='%Y-%m-%d %H:%M:%S')\n",
    "for index, row in pattern_3.iterrows():\n",
    "    mask = (original_data_3['date'] >= row['start']) & (original_data_3['date'] <= row['end'])\n",
    "    original_data_3.loc[mask, 'pattern'] = row['pattern']\n",
    "# original_data_3.to_csv('labeled_data_3.csv', index=False)"
   ]
  },
  {
   "cell_type": "code",
   "execution_count": 9,
   "id": "dcd47304",
   "metadata": {
    "execution": {
     "iopub.execute_input": "2024-04-25T15:04:56.410643Z",
     "iopub.status.busy": "2024-04-25T15:04:56.410244Z",
     "iopub.status.idle": "2024-04-25T15:04:56.804716Z",
     "shell.execute_reply": "2024-04-25T15:04:56.803357Z"
    },
    "papermill": {
     "duration": 0.407591,
     "end_time": "2024-04-25T15:04:56.807624",
     "exception": false,
     "start_time": "2024-04-25T15:04:56.400033",
     "status": "completed"
    },
    "tags": []
   },
   "outputs": [],
   "source": [
    "pattern_4=pd.read_csv(\"/kaggle/input/chart-pattern/SampleData4GT.csv\")\n",
    "original_data_4=pd.read_csv(\"/kaggle/input/chart-pattern/SampleData4.csv\")\n",
    "pattern_4['start'] = pd.to_datetime(pattern_4['start'], format='%Y-%m-%d %H:%M:%S')\n",
    "pattern_4['end'] = pd.to_datetime(pattern_4['end'], format='%Y-%m-%d %H:%M:%S')\n",
    "original_data_4['date'] = pd.to_datetime(original_data_4['date'])\n",
    "pattern_4['start'] = pd.to_datetime(pattern_4['start'], format='%Y-%m-%d %H:%M:%S')\n",
    "pattern_4['end'] = pd.to_datetime(pattern_4['end'], format='%Y-%m-%d %H:%M:%S')\n",
    "for index, row in pattern_4.iterrows():\n",
    "    mask = (original_data_4['date'] >= row['start']) & (original_data_4['date'] <= row['end'])\n",
    "    original_data_4.loc[mask, 'pattern'] = row['pattern']\n",
    "# original_data_4.to_csv('labeled_data_4.csv', index=False)"
   ]
  },
  {
   "cell_type": "markdown",
   "id": "61e9925a",
   "metadata": {
    "papermill": {
     "duration": 0.008277,
     "end_time": "2024-04-25T15:04:56.824522",
     "exception": false,
     "start_time": "2024-04-25T15:04:56.816245",
     "status": "completed"
    },
    "tags": []
   },
   "source": [
    "## Creating Training Dataset"
   ]
  },
  {
   "cell_type": "code",
   "execution_count": 10,
   "id": "54fce6f7",
   "metadata": {
    "execution": {
     "iopub.execute_input": "2024-04-25T15:04:56.844222Z",
     "iopub.status.busy": "2024-04-25T15:04:56.843520Z",
     "iopub.status.idle": "2024-04-25T15:04:58.902926Z",
     "shell.execute_reply": "2024-04-25T15:04:58.901700Z"
    },
    "papermill": {
     "duration": 2.072087,
     "end_time": "2024-04-25T15:04:58.906112",
     "exception": false,
     "start_time": "2024-04-25T15:04:56.834025",
     "status": "completed"
    },
    "tags": []
   },
   "outputs": [
    {
     "name": "stdout",
     "output_type": "stream",
     "text": [
      "       Unnamed: 0         open        close         high          low  \\\n",
      "0               0  1032.144200  1032.246108  1038.520819  1025.869489   \n",
      "1               1  1032.246108  1032.417499  1040.101487  1024.562120   \n",
      "2               2  1032.417499  1032.375497  1040.023616  1024.769380   \n",
      "3               3  1032.375497  1032.398605  1033.532570  1031.241532   \n",
      "4               4  1032.398605  1032.482789  1037.506628  1027.374766   \n",
      "...           ...          ...          ...          ...          ...   \n",
      "43178          67   943.623917   943.125486   944.763661   941.985742   \n",
      "43179          68   943.125486   943.640331   945.093625   941.672192   \n",
      "43180          69   943.640331   943.328025   945.433484   941.534873   \n",
      "43181          70   943.328025   944.004110   944.949081   942.383054   \n",
      "43182          71   944.004110   944.387213   944.869933   943.521391   \n",
      "\n",
      "                      date pattern  \n",
      "0      2020-01-02 09:00:00     NaN  \n",
      "1      2020-01-02 09:05:00     NaN  \n",
      "2      2020-01-02 09:10:00     NaN  \n",
      "3      2020-01-02 09:15:00     NaN  \n",
      "4      2020-01-02 09:20:00     NaN  \n",
      "...                    ...     ...  \n",
      "43178  2022-04-20 14:35:00     NaN  \n",
      "43179  2022-04-20 14:40:00     NaN  \n",
      "43180  2022-04-20 14:45:00     NaN  \n",
      "43181  2022-04-20 14:50:00     NaN  \n",
      "43182  2022-04-20 14:55:00     NaN  \n",
      "\n",
      "[136736 rows x 7 columns]\n"
     ]
    }
   ],
   "source": [
    "import pandas as pd\n",
    "\n",
    "file_paths = [\"/kaggle/input/shaped-data/labeled_data.csv\", \"/kaggle/input/shaped-data/labeled_data_2.csv\", \"/kaggle/input/shaped-data/labeled_data_3.csv\"]\n",
    "\n",
    "dfs = []\n",
    "\n",
    "for file_path in file_paths:\n",
    "    df = pd.read_csv(file_path)\n",
    "    dfs.append(df)\n",
    "\n",
    "combined_df = pd.concat(dfs, axis=0)\n",
    "print(combined_df)\n",
    "combined_df.to_csv(\"combined.csv\", index=False)"
   ]
  },
  {
   "cell_type": "markdown",
   "id": "3ae9e884",
   "metadata": {
    "papermill": {
     "duration": 0.008603,
     "end_time": "2024-04-25T15:04:58.923210",
     "exception": false,
     "start_time": "2024-04-25T15:04:58.914607",
     "status": "completed"
    },
    "tags": []
   },
   "source": [
    "## Labelling Training Dataset"
   ]
  },
  {
   "cell_type": "code",
   "execution_count": 11,
   "id": "61f6ed94",
   "metadata": {
    "execution": {
     "iopub.execute_input": "2024-04-25T15:04:58.941918Z",
     "iopub.status.busy": "2024-04-25T15:04:58.941525Z",
     "iopub.status.idle": "2024-04-25T15:05:00.958690Z",
     "shell.execute_reply": "2024-04-25T15:05:00.957473Z"
    },
    "papermill": {
     "duration": 2.030199,
     "end_time": "2024-04-25T15:05:00.961672",
     "exception": false,
     "start_time": "2024-04-25T15:04:58.931473",
     "status": "completed"
    },
    "tags": []
   },
   "outputs": [
    {
     "name": "stdout",
     "output_type": "stream",
     "text": [
      "        Unnamed: 0         open        close         high          low  \\\n",
      "0                0  1032.144200  1032.246108  1038.520819  1025.869489   \n",
      "1                1  1032.246108  1032.417499  1040.101487  1024.562120   \n",
      "2                2  1032.417499  1032.375497  1040.023616  1024.769380   \n",
      "3                3  1032.375497  1032.398605  1033.532570  1031.241532   \n",
      "4                4  1032.398605  1032.482789  1037.506628  1027.374766   \n",
      "...            ...          ...          ...          ...          ...   \n",
      "136731          67   943.623917   943.125486   944.763661   941.985742   \n",
      "136732          68   943.125486   943.640331   945.093625   941.672192   \n",
      "136733          69   943.640331   943.328025   945.433484   941.534873   \n",
      "136734          70   943.328025   944.004110   944.949081   942.383054   \n",
      "136735          71   944.004110   944.387213   944.869933   943.521391   \n",
      "\n",
      "                       date  pattern  \n",
      "0       2020-01-02 09:00:00        0  \n",
      "1       2020-01-02 09:05:00        0  \n",
      "2       2020-01-02 09:10:00        0  \n",
      "3       2020-01-02 09:15:00        0  \n",
      "4       2020-01-02 09:20:00        0  \n",
      "...                     ...      ...  \n",
      "136731  2022-04-20 14:35:00        0  \n",
      "136732  2022-04-20 14:40:00        0  \n",
      "136733  2022-04-20 14:45:00        0  \n",
      "136734  2022-04-20 14:50:00        0  \n",
      "136735  2022-04-20 14:55:00        0  \n",
      "\n",
      "[136736 rows x 7 columns]\n"
     ]
    }
   ],
   "source": [
    "combined_df = pd.read_csv(\"/kaggle/input/training-data/combined.csv\")\n",
    "\n",
    "new_label_mapping = {\n",
    "    \"Reverse Head and shoulders\":1,\n",
    "    \"Head and shoulders\": 2,\n",
    "    \"Double Top\": 3,\n",
    "    \"Double Bottom\": 4,\n",
    "    np.nan: 0  \n",
    "}\n",
    "\n",
    "combined_df['pattern'] = combined_df['pattern'].map(new_label_mapping)\n",
    "print(combined_df)\n",
    "combined_df.to_csv(\"combined_updated.csv\", index=False)"
   ]
  },
  {
   "cell_type": "markdown",
   "id": "1e727318",
   "metadata": {
    "papermill": {
     "duration": 0.00815,
     "end_time": "2024-04-25T15:05:00.978629",
     "exception": false,
     "start_time": "2024-04-25T15:05:00.970479",
     "status": "completed"
    },
    "tags": []
   },
   "source": [
    "## Labelling Test Dataset"
   ]
  },
  {
   "cell_type": "code",
   "execution_count": 12,
   "id": "9e08a94b",
   "metadata": {
    "execution": {
     "iopub.execute_input": "2024-04-25T15:05:00.998554Z",
     "iopub.status.busy": "2024-04-25T15:05:00.998127Z",
     "iopub.status.idle": "2024-04-25T15:05:01.647895Z",
     "shell.execute_reply": "2024-04-25T15:05:01.646899Z"
    },
    "papermill": {
     "duration": 0.662632,
     "end_time": "2024-04-25T15:05:01.650470",
     "exception": false,
     "start_time": "2024-04-25T15:05:00.987838",
     "status": "completed"
    },
    "tags": []
   },
   "outputs": [
    {
     "name": "stdout",
     "output_type": "stream",
     "text": [
      "       Unnamed: 0         open        close         high          low  \\\n",
      "0               0  1342.100000  1345.085221  1348.659736  1338.525485   \n",
      "1               1  1345.085221  1348.165442  1349.693272  1343.557391   \n",
      "2               2  1348.165442  1348.964998  1358.769402  1338.361038   \n",
      "3               3  1348.964998  1351.860000  1359.948187  1340.876811   \n",
      "4               4  1351.860000  1351.072686  1354.970295  1347.962392   \n",
      "...           ...          ...          ...          ...          ...   \n",
      "43173          67   202.108174   200.319846   202.176470   200.251551   \n",
      "43174          68   200.319846   204.116677   205.527602   198.908921   \n",
      "43175          69   204.116677   203.767022   204.903897   202.979802   \n",
      "43176          70   203.767022   205.382824   206.704079   202.445767   \n",
      "43177          71   205.382824   205.993614   206.627696   204.748742   \n",
      "\n",
      "                      date  pattern  \n",
      "0      2020-01-02 09:00:00        0  \n",
      "1      2020-01-02 09:05:00        0  \n",
      "2      2020-01-02 09:10:00        0  \n",
      "3      2020-01-02 09:15:00        0  \n",
      "4      2020-01-02 09:20:00        0  \n",
      "...                    ...      ...  \n",
      "43173  2022-04-20 14:35:00        0  \n",
      "43174  2022-04-20 14:40:00        0  \n",
      "43175  2022-04-20 14:45:00        0  \n",
      "43176  2022-04-20 14:50:00        0  \n",
      "43177  2022-04-20 14:55:00        0  \n",
      "\n",
      "[43178 rows x 7 columns]\n"
     ]
    }
   ],
   "source": [
    "combined_df = pd.read_csv(\"/kaggle/input/shaped-data/labeled_data_4.csv\")\n",
    "\n",
    "new_label_mapping = {\n",
    "    \"Reverse Head and shoulders\": 1,\n",
    "    \"Head and shoulders\": 2,\n",
    "    \"Double Top\": 3,\n",
    "    \"Double Bottom\": 4,\n",
    "    np.nan: 0  \n",
    "}\n",
    "\n",
    "combined_df['pattern'] = combined_df['pattern'].map(new_label_mapping)\n",
    "print(combined_df)\n",
    "combined_df.to_csv(\"combined_updated_test.csv\", index=False)"
   ]
  },
  {
   "cell_type": "markdown",
   "id": "b357b42f",
   "metadata": {
    "papermill": {
     "duration": 0.009171,
     "end_time": "2024-04-25T15:05:01.668827",
     "exception": false,
     "start_time": "2024-04-25T15:05:01.659656",
     "status": "completed"
    },
    "tags": []
   },
   "source": [
    "## Creating Difference Dataset"
   ]
  },
  {
   "cell_type": "code",
   "execution_count": 13,
   "id": "a21fdfd7",
   "metadata": {
    "execution": {
     "iopub.execute_input": "2024-04-25T15:05:01.689384Z",
     "iopub.status.busy": "2024-04-25T15:05:01.688222Z",
     "iopub.status.idle": "2024-04-25T15:05:03.605941Z",
     "shell.execute_reply": "2024-04-25T15:05:03.604927Z"
    },
    "papermill": {
     "duration": 1.931202,
     "end_time": "2024-04-25T15:05:03.608724",
     "exception": false,
     "start_time": "2024-04-25T15:05:01.677522",
     "status": "completed"
    },
    "tags": []
   },
   "outputs": [
    {
     "name": "stdout",
     "output_type": "stream",
     "text": [
      "        Unnamed: 0                 date  pattern  open_diff  close_diff  \\\n",
      "0                0  2020-01-02 09:00:00        0        NaN         NaN   \n",
      "1                1  2020-01-02 09:05:00        0   0.101908    0.171391   \n",
      "2                2  2020-01-02 09:10:00        0   0.171391   -0.042001   \n",
      "3                3  2020-01-02 09:15:00        0  -0.042001    0.023107   \n",
      "4                4  2020-01-02 09:20:00        0   0.023107    0.084184   \n",
      "...            ...                  ...      ...        ...         ...   \n",
      "136731          67  2022-04-20 14:35:00        0   3.177701   -0.498432   \n",
      "136732          68  2022-04-20 14:40:00        0  -0.498432    0.514845   \n",
      "136733          69  2022-04-20 14:45:00        0   0.514845   -0.312306   \n",
      "136734          70  2022-04-20 14:50:00        0  -0.312306    0.676085   \n",
      "136735          71  2022-04-20 14:55:00        0   0.676085    0.383103   \n",
      "\n",
      "        high_diff  low_diff  \n",
      "0             NaN       NaN  \n",
      "1        1.580668 -1.307370  \n",
      "2       -0.077871  0.207260  \n",
      "3       -6.491046  6.472152  \n",
      "4        3.974058 -3.866766  \n",
      "...           ...       ...  \n",
      "136731  -0.361535  3.040805  \n",
      "136732   0.329964 -0.313551  \n",
      "136733   0.339858 -0.137319  \n",
      "136734  -0.484402  0.848181  \n",
      "136735  -0.079149  1.138337  \n",
      "\n",
      "[136736 rows x 7 columns]\n"
     ]
    }
   ],
   "source": [
    "import pandas as pd\n",
    "\n",
    "df = pd.read_csv(\"/kaggle/working/combined_updated.csv\")\n",
    "\n",
    "df['open_diff'] = df['open'] - df['open'].shift(1)\n",
    "df['close_diff'] = df['close'] - df['close'].shift(1)\n",
    "df['high_diff'] = df['high'] - df['high'].shift(1)\n",
    "df['low_diff'] = df['low'] - df['low'].shift(1)\n",
    "df.drop(columns=['open', 'close', 'high', 'low'], inplace=True)\n",
    "\n",
    "print(df)\n",
    "df.to_csv(\"difference_data.csv\", index=False)"
   ]
  },
  {
   "cell_type": "code",
   "execution_count": 14,
   "id": "a05d868b",
   "metadata": {
    "execution": {
     "iopub.execute_input": "2024-04-25T15:05:03.632178Z",
     "iopub.status.busy": "2024-04-25T15:05:03.631090Z",
     "iopub.status.idle": "2024-04-25T15:05:04.251784Z",
     "shell.execute_reply": "2024-04-25T15:05:04.250593Z"
    },
    "papermill": {
     "duration": 0.635408,
     "end_time": "2024-04-25T15:05:04.254657",
     "exception": false,
     "start_time": "2024-04-25T15:05:03.619249",
     "status": "completed"
    },
    "tags": []
   },
   "outputs": [
    {
     "name": "stdout",
     "output_type": "stream",
     "text": [
      "       Unnamed: 0                 date  pattern  open_diff  close_diff  \\\n",
      "0               0  2020-01-02 09:00:00        0        NaN         NaN   \n",
      "1               1  2020-01-02 09:05:00        0   2.985221    3.080222   \n",
      "2               2  2020-01-02 09:10:00        0   3.080222    0.799555   \n",
      "3               3  2020-01-02 09:15:00        0   0.799555    2.895002   \n",
      "4               4  2020-01-02 09:20:00        0   2.895002   -0.787314   \n",
      "...           ...                  ...      ...        ...         ...   \n",
      "43173          67  2022-04-20 14:35:00        0   1.637525   -1.788328   \n",
      "43174          68  2022-04-20 14:40:00        0  -1.788328    3.796831   \n",
      "43175          69  2022-04-20 14:45:00        0   3.796831   -0.349656   \n",
      "43176          70  2022-04-20 14:50:00        0  -0.349656    1.615803   \n",
      "43177          71  2022-04-20 14:55:00        0   1.615803    0.610789   \n",
      "\n",
      "       high_diff  low_diff  \n",
      "0            NaN       NaN  \n",
      "1       1.033536  5.031906  \n",
      "2       9.076130 -5.196354  \n",
      "3       1.178784  2.515773  \n",
      "4      -4.977892  7.085581  \n",
      "...          ...       ...  \n",
      "43173  -0.486379  0.335577  \n",
      "43174   3.351133 -1.342629  \n",
      "43175  -0.623705  4.070880  \n",
      "43176   1.800182 -0.534035  \n",
      "43177  -0.076383  2.302975  \n",
      "\n",
      "[43178 rows x 7 columns]\n"
     ]
    }
   ],
   "source": [
    "import pandas as pd\n",
    "\n",
    "df = pd.read_csv(\"/kaggle/working/combined_updated_test.csv\")\n",
    "\n",
    "df['open_diff'] = df['open'] - df['open'].shift(1)\n",
    "df['close_diff'] = df['close'] - df['close'].shift(1)\n",
    "df['high_diff'] = df['high'] - df['high'].shift(1)\n",
    "df['low_diff'] = df['low'] - df['low'].shift(1)\n",
    "df.drop(columns=['open', 'close', 'high', 'low'], inplace=True)\n",
    "\n",
    "print(df)\n",
    "df.to_csv(\"difference_data_test.csv\", index=False)"
   ]
  },
  {
   "cell_type": "markdown",
   "id": "6ebb8b2c",
   "metadata": {
    "papermill": {
     "duration": 0.008624,
     "end_time": "2024-04-25T15:05:04.272212",
     "exception": false,
     "start_time": "2024-04-25T15:05:04.263588",
     "status": "completed"
    },
    "tags": []
   },
   "source": [
    "## Labelling Difference Dataset"
   ]
  },
  {
   "cell_type": "code",
   "execution_count": 15,
   "id": "7cd3ddf2",
   "metadata": {
    "execution": {
     "iopub.execute_input": "2024-04-25T15:05:04.291783Z",
     "iopub.status.busy": "2024-04-25T15:05:04.291401Z",
     "iopub.status.idle": "2024-04-25T15:05:06.221333Z",
     "shell.execute_reply": "2024-04-25T15:05:06.219768Z"
    },
    "papermill": {
     "duration": 1.943188,
     "end_time": "2024-04-25T15:05:06.224338",
     "exception": false,
     "start_time": "2024-04-25T15:05:04.281150",
     "status": "completed"
    },
    "tags": []
   },
   "outputs": [
    {
     "name": "stdout",
     "output_type": "stream",
     "text": [
      "        Unnamed: 0                 date  pattern  open_diff  close_diff  \\\n",
      "0                0  2020-01-02 09:00:00      NaN        NaN         NaN   \n",
      "1                1  2020-01-02 09:05:00      NaN   0.101908    0.171391   \n",
      "2                2  2020-01-02 09:10:00      NaN   0.171391   -0.042001   \n",
      "3                3  2020-01-02 09:15:00      NaN  -0.042001    0.023107   \n",
      "4                4  2020-01-02 09:20:00      NaN   0.023107    0.084184   \n",
      "...            ...                  ...      ...        ...         ...   \n",
      "136731          67  2022-04-20 14:35:00      NaN   3.177701   -0.498432   \n",
      "136732          68  2022-04-20 14:40:00      NaN  -0.498432    0.514845   \n",
      "136733          69  2022-04-20 14:45:00      NaN   0.514845   -0.312306   \n",
      "136734          70  2022-04-20 14:50:00      NaN  -0.312306    0.676085   \n",
      "136735          71  2022-04-20 14:55:00      NaN   0.676085    0.383103   \n",
      "\n",
      "        high_diff  low_diff  \n",
      "0             NaN       NaN  \n",
      "1        1.580668 -1.307370  \n",
      "2       -0.077871  0.207260  \n",
      "3       -6.491046  6.472152  \n",
      "4        3.974058 -3.866766  \n",
      "...           ...       ...  \n",
      "136731  -0.361535  3.040805  \n",
      "136732   0.329964 -0.313551  \n",
      "136733   0.339858 -0.137319  \n",
      "136734  -0.484402  0.848181  \n",
      "136735  -0.079149  1.138337  \n",
      "\n",
      "[136736 rows x 7 columns]\n"
     ]
    }
   ],
   "source": [
    "combined_df = pd.read_csv(\"/kaggle/working/difference_data.csv\")\n",
    "\n",
    "new_label_mapping = {\n",
    "    \"Reverse Head and shoulders\": 1,\n",
    "    \"Head and shoulders\": 2,\n",
    "    \"Double Top\": 3,\n",
    "    \"Double Bottom\": 4,\n",
    "    np.nan: 0  \n",
    "}\n",
    "\n",
    "combined_df['pattern'] = combined_df['pattern'].map(new_label_mapping)\n",
    "print(combined_df)\n",
    "combined_df.to_csv(\"differenced_train.csv\", index=False)"
   ]
  }
 ],
 "metadata": {
  "kaggle": {
   "accelerator": "none",
   "dataSources": [
    {
     "datasetId": 4788338,
     "sourceId": 8106941,
     "sourceType": "datasetVersion"
    },
    {
     "datasetId": 4788393,
     "sourceId": 8107024,
     "sourceType": "datasetVersion"
    },
    {
     "datasetId": 4877807,
     "sourceId": 8226410,
     "sourceType": "datasetVersion"
    },
    {
     "datasetId": 4877845,
     "sourceId": 8226461,
     "sourceType": "datasetVersion"
    },
    {
     "datasetId": 4877893,
     "sourceId": 8226525,
     "sourceType": "datasetVersion"
    },
    {
     "datasetId": 4878086,
     "sourceId": 8226771,
     "sourceType": "datasetVersion"
    },
    {
     "datasetId": 4878954,
     "sourceId": 8227915,
     "sourceType": "datasetVersion"
    },
    {
     "datasetId": 4879000,
     "sourceId": 8227978,
     "sourceType": "datasetVersion"
    }
   ],
   "dockerImageVersionId": 30684,
   "isGpuEnabled": false,
   "isInternetEnabled": false,
   "language": "python",
   "sourceType": "notebook"
  },
  "kernelspec": {
   "display_name": "Python 3",
   "language": "python",
   "name": "python3"
  },
  "language_info": {
   "codemirror_mode": {
    "name": "ipython",
    "version": 3
   },
   "file_extension": ".py",
   "mimetype": "text/x-python",
   "name": "python",
   "nbconvert_exporter": "python",
   "pygments_lexer": "ipython3",
   "version": "3.10.13"
  },
  "papermill": {
   "default_parameters": {},
   "duration": 16.411218,
   "end_time": "2024-04-25T15:05:06.755111",
   "environment_variables": {},
   "exception": null,
   "input_path": "__notebook__.ipynb",
   "output_path": "__notebook__.ipynb",
   "parameters": {},
   "start_time": "2024-04-25T15:04:50.343893",
   "version": "2.5.0"
  }
 },
 "nbformat": 4,
 "nbformat_minor": 5
}
